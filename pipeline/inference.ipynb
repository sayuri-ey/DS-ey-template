{
 "cells": [
  {
   "cell_type": "code",
   "execution_count": null,
   "metadata": {},
   "outputs": [],
   "source": [
    "# custom modules\n",
    "from configs.custom_config import get_timezone, get_target_column, get_feature_columns, get_categorical_columns, get_numerical_columns\n",
    "# external modules\n",
    "import joblib\n",
    "import pandas as pd\n",
    "from datetime import datetime"
   ]
  },
  {
   "cell_type": "code",
   "execution_count": null,
   "metadata": {},
   "outputs": [],
   "source": [
    "# set environment and define functions\n",
    "\n",
    "# set timezone\n",
    "get_timezone()\n",
    "\n",
    "# Load model\n",
    "model = joblib.load('model/model.pkl')\n",
    "\n",
    "def predict(new_data):\n",
    "    \n",
    "    before = datetime.now()\n",
    "    \n",
    "    # Convert the new data to a pandas DataFrame\n",
    "    df = pd.DataFrame([new_data])\n",
    "\n",
    "    predictions = model.predict(df)\n",
    "    \n",
    "    after = datetime.now()\n",
    "    \n",
    "    message = f\"new_data was labeled as {'fraude' if predictions == 1 else 'não-fraude'}. Inference took {(after-before).total_seconds()*1000:.0f} {'miliseconds' if (after-before).total_seconds()*1000 < 1000 else 'seconds'}\"\n",
    "    print(message)\n",
    "    \n",
    "    return predictions"
   ]
  }
 ],
 "metadata": {
  "language_info": {
   "name": "python"
  },
  "orig_nbformat": 4
 },
 "nbformat": 4,
 "nbformat_minor": 2
}
